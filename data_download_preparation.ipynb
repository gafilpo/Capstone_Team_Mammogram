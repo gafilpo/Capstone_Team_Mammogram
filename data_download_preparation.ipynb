{
 "cells": [
  {
   "attachments": {},
   "cell_type": "markdown",
   "metadata": {},
   "source": [
    "# DOWNLOAD AND PREPARE KAGGLE IMAGES"
   ]
  },
  {
   "cell_type": "code",
   "execution_count": 1,
   "metadata": {},
   "outputs": [
    {
     "name": "stdout",
     "output_type": "stream",
     "text": [
      "/bin/bash: /home/marco/anaconda3/lib/libtinfo.so.6: no version information available (required by /bin/bash)\n",
      "Requirement already satisfied: python-gdcm in /home/marco/anaconda3/envs/tf/lib/python3.9/site-packages (3.0.21)\n",
      "/bin/bash: /home/marco/anaconda3/lib/libtinfo.so.6: no version information available (required by /bin/bash)\n",
      "Requirement already satisfied: pylibjpeg in /home/marco/anaconda3/envs/tf/lib/python3.9/site-packages (1.4.0)\n",
      "Requirement already satisfied: numpy in /home/marco/anaconda3/envs/tf/lib/python3.9/site-packages (from pylibjpeg) (1.23.5)\n",
      "/bin/bash: /home/marco/anaconda3/lib/libtinfo.so.6: no version information available (required by /bin/bash)\n",
      "Collecting package metadata (current_repodata.json): done\n",
      "Solving environment: done\n",
      "\n",
      "# All requested packages already installed.\n",
      "\n"
     ]
    }
   ],
   "source": [
    "# Requirements for reading dicom files\n",
    "! pip install python-gdcm\n",
    "! pip install pylibjpeg\n",
    "! conda install -c conda-forge gdcm"
   ]
  },
  {
   "cell_type": "code",
   "execution_count": 1,
   "metadata": {},
   "outputs": [],
   "source": [
    "import os\n",
    "import opendatasets as od\n",
    "import zipfile\n",
    "import pydicom\n",
    "from PIL import Image\n",
    "import numpy as np\n",
    "from multiprocessing import Pool, cpu_count"
   ]
  },
  {
   "attachments": {},
   "cell_type": "markdown",
   "metadata": {},
   "source": [
    "## 1. Download"
   ]
  },
  {
   "attachments": {},
   "cell_type": "markdown",
   "metadata": {},
   "source": [
    "This step requires having an account on Kaggle and having the json file associated to the account saved in the root directory."
   ]
  },
  {
   "cell_type": "code",
   "execution_count": 5,
   "metadata": {},
   "outputs": [
    {
     "name": "stdout",
     "output_type": "stream",
     "text": [
      "Skipping, found downloaded files in \"./rsna-breast-cancer-detection\" (use force=True to force download)\n"
     ]
    }
   ],
   "source": [
    "download_link = 'https://www.kaggle.com/competitions/rsna-breast-cancer-detection/data'\n",
    "\n",
    "od.download(download_link)"
   ]
  },
  {
   "attachments": {},
   "cell_type": "markdown",
   "metadata": {},
   "source": [
    "## 2. Unzip"
   ]
  },
  {
   "cell_type": "code",
   "execution_count": 6,
   "metadata": {},
   "outputs": [],
   "source": [
    "with zipfile.ZipFile('rsna-breast-cancer-detection/rsna-breast-cancer-detection.zip', 'r') as zip_:\n",
    "        zip_.extractall('./DATA/')"
   ]
  },
  {
   "attachments": {},
   "cell_type": "markdown",
   "metadata": {},
   "source": [
    "## 3. Preprocess images"
   ]
  },
  {
   "cell_type": "code",
   "execution_count": 3,
   "metadata": {},
   "outputs": [],
   "source": [
    "# Helper function to read dicom files FROM https://www.kaggle.com/code/raddar/convert-dicom-to-np-array-the-correct-way\n",
    "\n",
    "def read_dicom(path, voi_lut=True):\n",
    "    dicom = pydicom.dcmread(path)\n",
    "    \n",
    "    data = dicom.pixel_array\n",
    "               \n",
    "    # depending on this value,mammograms may look inverted - fix that:\n",
    "    if dicom.PhotometricInterpretation == \"MONOCHROME1\":\n",
    "        data = np.amax(data) - data\n",
    "        \n",
    "    return data\n",
    "\n",
    "\n",
    "# Read each image in our whole data directory\n",
    "\n",
    "data_dir = './DATA/train_images/'\n",
    "output_dir = './DATA/train_images_resized/'\n",
    "\n",
    "#Set the new size\n",
    "new_size = (1024, 1024)\n",
    "\n",
    "\n",
    "# Function to read and preprocess the images\n",
    "def preprocess(file, subdir):\n",
    "\n",
    "        # Only preprocess if it's dcm file\n",
    "        filename, extension = file.split('.')\n",
    "        if extension == 'dcm':\n",
    "\n",
    "            image = os.path.join(subdir, file)\n",
    "            patient_id = subdir.split('/')[-1]\n",
    "            new_file = output_dir+patient_id+'/'+filename+'.png'\n",
    "            if not os.path.isfile(new_file):\n",
    "\n",
    "                # Open dicom file and extract pixel array\n",
    "                img = read_dicom(image)\n",
    "\n",
    "                # Scale 0-1\n",
    "                img = (img-np.min(img))/(np.max(img)-np.min(img))\n",
    "\n",
    "                #If there is a column with all zero pixels on the left, flip it:\n",
    "                if img[:, 0].sum() == 0:\n",
    "                    img = np.fliplr(img)\n",
    "\n",
    "                #Remove empty space\n",
    "                ##On cols\n",
    "                img = img[:, np.any(img, axis=0)]\n",
    "                ##On rows\n",
    "                img = img[np.any(img, axis=1), :]\n",
    "\n",
    "                # Resize\n",
    "                img = Image.fromarray(img * 255).convert('L')\n",
    "                img = img.resize(new_size)\n",
    "\n",
    "                #Save (can only save as 0-255 array, will convert again later when feeding into the model)\n",
    "                \n",
    "                if not os.path.exists(output_dir+patient_id):\n",
    "                    os.makedirs(output_dir+patient_id)\n",
    "\n",
    "                img.save(output_dir+patient_id+'/'+filename+'.png')\n",
    "\n",
    "# Iterate over the entire train folder and subfolder\n",
    "file_iter = [(file, subdir) for subdir, dirs, files in os.walk(data_dir) for file in files]\n",
    "\n",
    "# Run it in parallel to be faster\n",
    "pool = Pool(cpu_count() - 1)\n",
    "pool.starmap_async(preprocess, file_iter)\n",
    "pool.close()"
   ]
  }
 ],
 "metadata": {
  "kernelspec": {
   "display_name": "tf",
   "language": "python",
   "name": "python3"
  },
  "language_info": {
   "codemirror_mode": {
    "name": "ipython",
    "version": 3
   },
   "file_extension": ".py",
   "mimetype": "text/x-python",
   "name": "python",
   "nbconvert_exporter": "python",
   "pygments_lexer": "ipython3",
   "version": "3.9.16"
  },
  "orig_nbformat": 4
 },
 "nbformat": 4,
 "nbformat_minor": 2
}
